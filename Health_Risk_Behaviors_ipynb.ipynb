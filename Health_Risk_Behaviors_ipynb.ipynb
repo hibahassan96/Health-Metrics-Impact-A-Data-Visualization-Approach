{
  "cells": [
    {
      "cell_type": "markdown",
      "id": "cf237537",
      "metadata": {
        "id": "cf237537"
      },
      "source": [
        "# Final Project Delivery"
      ]
    },
    {
      "cell_type": "markdown",
      "id": "4bbbcfee",
      "metadata": {
        "id": "4bbbcfee"
      },
      "source": [
        "# Project Title: Health of the Americans' next generation"
      ]
    },
    {
      "cell_type": "markdown",
      "id": "7a773d38",
      "metadata": {
        "id": "7a773d38"
      },
      "source": [
        "## Team: Group 10 B2"
      ]
    },
    {
      "cell_type": "markdown",
      "id": "dd655abd",
      "metadata": {
        "id": "dd655abd"
      },
      "source": [
        "- Hailey Han (MSPPM-DA, yuehan@andrew.cmu.edu)\n",
        "- Hiba Hassan (MSPPM-DA, hibah@andrew.cmu.edu)\n",
        "- Kateryna Shapovalenko (MSPPM-DA, kshapova@andrew.cmu.edu)"
      ]
    },
    {
      "cell_type": "markdown",
      "id": "d3709236",
      "metadata": {
        "id": "d3709236"
      },
      "source": [
        "**Outline:**\n",
        "1. General picture\n",
        "2. Focused view\n",
        "3. Recommended actions\n",
        "4. References"
      ]
    },
    {
      "cell_type": "code",
      "execution_count": null,
      "id": "d1c43c2c",
      "metadata": {
        "id": "d1c43c2c"
      },
      "outputs": [],
      "source": [
        "# All libraries\n",
        "import numpy as np\n",
        "import pandas as pd\n",
        "import pyodbc\n",
        "import matplotlib.pyplot as plt\n",
        "import seaborn as sns\n",
        "from labellines import labelLines\n",
        "import plotly.graph_objects as go\n",
        "from sklearn.preprocessing import LabelEncoder\n",
        "from joypy import joyplot\n",
        "from pySankey.sankey import sankey\n",
        "import plotly.graph_objects as go\n",
        "import matplotlib.ticker as mtick\n",
        "from string import ascii_letters"
      ]
    },
    {
      "cell_type": "code",
      "execution_count": null,
      "id": "9e953934",
      "metadata": {
        "scrolled": true,
        "id": "9e953934",
        "outputId": "ab13c0ca-3d14-4bf2-c022-806fdad5867f"
      },
      "outputs": [
        {
          "name": "stdout",
          "output_type": "stream",
          "text": [
            "<class 'pandas.core.frame.DataFrame'>\n",
            "RangeIndex: 43791 entries, 0 to 43790\n",
            "Data columns (total 48 columns):\n",
            " #   Column                         Non-Null Count  Dtype  \n",
            "---  ------                         --------------  -----  \n",
            " 0   age                            43791 non-null  int64  \n",
            " 1   gender                         43791 non-null  object \n",
            " 2   grade                          43791 non-null  object \n",
            " 3   height                         43791 non-null  float64\n",
            " 4   weight_real                    43791 non-null  float64\n",
            " 5   seatbelt                       43791 non-null  float64\n",
            " 6   drunk_driving_others           43791 non-null  float64\n",
            " 7   drunk_driving_self             28442 non-null  float64\n",
            " 8   texting_driving                28442 non-null  float64\n",
            " 9   weapon_carry_general           43791 non-null  float64\n",
            " 10  weapon_carry_school            43791 non-null  float64\n",
            " 11  safety_perception_school       43791 non-null  float64\n",
            " 12  fight_school                   43791 non-null  float64\n",
            " 13  forced_sex                     43791 non-null  float64\n",
            " 14  hopeless                       43791 non-null  float64\n",
            " 15  suicide_attempt_consideration  43791 non-null  float64\n",
            " 16  tried_smoking                  43791 non-null  float64\n",
            " 17  cigarettes_day                 43791 non-null  float64\n",
            " 18  tried_electronic_vapor         28442 non-null  float64\n",
            " 19  electronic_vapor_day           28442 non-null  float64\n",
            " 20  chewing_tobacco_day            28442 non-null  float64\n",
            " 21  cigars_day                     28442 non-null  float64\n",
            " 22  alcohol                        43791 non-null  float64\n",
            " 23  marijuana                      43791 non-null  float64\n",
            " 24  marijuana_30                   28442 non-null  float64\n",
            " 25  cocaine                        43791 non-null  float64\n",
            " 26  unprotected_sex                43791 non-null  float64\n",
            " 27  weight_perception              43791 non-null  float64\n",
            " 28  weight_management              43791 non-null  float64\n",
            " 29  juice                          43791 non-null  float64\n",
            " 30  fruit                          43791 non-null  float64\n",
            " 31  green_salad                    43791 non-null  float64\n",
            " 32  potato                         43791 non-null  float64\n",
            " 33  carrots                        43791 non-null  float64\n",
            " 34  other_vegetables               43791 non-null  float64\n",
            " 35  soda                           28442 non-null  float64\n",
            " 36  milk                           43791 non-null  float64\n",
            " 37  breakfast                      28442 non-null  float64\n",
            " 38  physical_activity              28442 non-null  float64\n",
            " 39  TV                             43791 non-null  float64\n",
            " 40  computer_games                 28442 non-null  float64\n",
            " 41  PE                             43791 non-null  float64\n",
            " 42  sport_team                     43791 non-null  float64\n",
            " 43  dentist                        43791 non-null  float64\n",
            " 44  sleep                          28442 non-null  float64\n",
            " 45  grades                         28442 non-null  object \n",
            " 46  year                           43791 non-null  int64  \n",
            " 47  BMI                            43791 non-null  float64\n",
            "dtypes: float64(43), int64(2), object(3)\n",
            "memory usage: 16.0+ MB\n"
          ]
        }
      ],
      "source": [
        "df = pd.read_csv(\"data.csv\", low_memory=False)\n",
        "df.info()"
      ]
    },
    {
      "cell_type": "markdown",
      "id": "c65dd619",
      "metadata": {
        "id": "c65dd619"
      },
      "source": [
        "## 1. General picture"
      ]
    },
    {
      "cell_type": "code",
      "execution_count": null,
      "id": "248154d9",
      "metadata": {
        "id": "248154d9"
      },
      "outputs": [],
      "source": [
        "df.columns\n",
        "df.reset_index(inplace=True)"
      ]
    },
    {
      "cell_type": "code",
      "execution_count": null,
      "id": "68e93372",
      "metadata": {
        "id": "68e93372",
        "outputId": "4fe5d45a-3129-41ce-8bf0-9e34fc6ac55a"
      },
      "outputs": [
        {
          "data": {
            "text/plain": [
              "57.22724744165889"
            ]
          },
          "execution_count": 244,
          "metadata": {},
          "output_type": "execute_result"
        }
      ],
      "source": [
        "# Prepare the data\n",
        "\n",
        "# Calculate the index\n",
        "df['health_index'] = ((df['seatbelt'] / df['seatbelt'].mean() + # the larger value the better\n",
        "                     df['drunk_driving_self'].mean() / df['drunk_driving_self'] + # the larger value the worse\n",
        "                     df['cigarettes_day'].mean() / df['cigarettes_day'] +\n",
        "                     df['electronic_vapor_day'].mean() / df['electronic_vapor_day'] +\n",
        "                     df['alcohol'].mean() / df['alcohol'] +\n",
        "                     df['marijuana_30'].mean() / df['marijuana_30'] +\n",
        "                     df['cocaine'].mean() / df['cocaine'] +\n",
        "                     df['unprotected_sex'].mean() / df['unprotected_sex'] +\n",
        "                     df['fruit'] / df['fruit'].mean() +\n",
        "                     df['green_salad'] / df['green_salad'].mean() +\n",
        "                     df['breakfast'] / df['breakfast'].mean() +\n",
        "                     df['TV'].mean() / df['TV'] +\n",
        "                     df['computer_games'].mean() / df['computer_games'] +\n",
        "                     df['PE'].mean() / df['PE'] +\n",
        "                     df['sleep'].mean() / df['sleep']\n",
        "                     ) * 100 / 33.618510)\n",
        "\n",
        "# Resize the bins of categories\n",
        "category = pd.cut(df.health_index,bins=[0, 50, 80, 100],labels = ['Bad (<50%)', 'Average (50-80%)', 'Good (80-100%)'])\n",
        "df.insert(48, 'health_index_cat', category) # categorical\n",
        "\n",
        "category = pd.cut(df.BMI,bins=[0, 18.5, 24.9, 100],labels=['Underweight', 'Normal', 'Overweight or Obese'])\n",
        "df.insert(48, 'BMI_cat', category) # categorical\n",
        "\n",
        "new_df = df.copy()\n",
        "new_df['hopeless'] = new_df['hopeless'].astype(str)\n",
        "new_df['hopeless'].replace({'1.0': 'Yes', '2.0': 'No'}, inplace = True)\n",
        "df['health_index'][df['year'] == 2019].mean()"
      ]
    },
    {
      "cell_type": "code",
      "execution_count": null,
      "id": "b62e6ba8",
      "metadata": {
        "scrolled": false,
        "id": "b62e6ba8",
        "outputId": "a25a0e00-9d46-42e6-bcf1-a36ab4558fda"
      },
      "outputs": [
        {
          "data": {
            "application/vnd.plotly.v1+json": {
              "config": {
                "plotlyServerURL": "https://plot.ly"
              },
              "data": [
                {
                  "link": {
                    "color": [
                      "#fb8072",
                      "#fb8072",
                      "#fb8072",
                      "#d9d9d9",
                      "#d9d9d9",
                      "#d9d9d9",
                      "#d9d9d9",
                      "#d9d9d9",
                      "#fb8072",
                      "#d9d9d9",
                      "#d9d9d9",
                      "#d9d9d9",
                      "#d9d9d9",
                      "#fb8072",
                      "#fb8072",
                      "#d9d9d9",
                      "#fb8072",
                      "#d9d9d9",
                      "#fb8072"
                    ],
                    "source": [
                      0,
                      0,
                      0,
                      1,
                      1,
                      1,
                      2,
                      2,
                      2,
                      3,
                      3,
                      4,
                      4,
                      5,
                      5,
                      6,
                      6,
                      7,
                      7
                    ],
                    "target": [
                      3,
                      4,
                      5,
                      3,
                      4,
                      5,
                      3,
                      4,
                      5,
                      6,
                      7,
                      6,
                      7,
                      6,
                      7,
                      8,
                      9,
                      8,
                      9
                    ],
                    "value": [
                      1070,
                      2904,
                      1496,
                      4593,
                      12162,
                      6024,
                      56,
                      85,
                      52,
                      4483,
                      3470,
                      12640,
                      11740,
                      5470,
                      5988,
                      13407,
                      9186,
                      16189,
                      5009
                    ]
                  },
                  "node": {
                    "color": [
                      "#fb8072",
                      "#8d8d8d",
                      "#8d8d8d",
                      "#8d8d8d",
                      "#8d8d8d",
                      "#fb8072",
                      "#8d8d8d",
                      "#8d8d8d",
                      "#d9d9d9",
                      "#fb8072",
                      "#d9d9d9",
                      "#d9d9d9",
                      "#8d8d8d",
                      "#d9d9d9",
                      "#8d8d8d",
                      "#d9d9d9",
                      "#fb8072",
                      "#fb8072",
                      "#fb8072"
                    ],
                    "label": [
                      "Bad (<50%)",
                      "Average (50-80%)",
                      "Good (80-100%)",
                      "Underweight",
                      "Normal",
                      "Overweight or Obese",
                      "Female",
                      "Male",
                      "No",
                      "Yes"
                    ],
                    "line": {
                      "color": "black",
                      "width": 0.5
                    },
                    "pad": 15,
                    "thickness": 20
                  },
                  "type": "sankey"
                }
              ],
              "layout": {
                "annotations": [
                  {
                    "font": {
                      "color": "black",
                      "size": 15
                    },
                    "showarrow": false,
                    "text": "Health index",
                    "textangle": 0,
                    "x": 0,
                    "xanchor": "left",
                    "xref": "paper",
                    "y": 1.1,
                    "yref": "paper"
                  },
                  {
                    "font": {
                      "color": "black",
                      "size": 15
                    },
                    "showarrow": false,
                    "text": "BMI level",
                    "textangle": 0,
                    "x": 0.28,
                    "xanchor": "left",
                    "xref": "paper",
                    "y": 1.1,
                    "yref": "paper"
                  },
                  {
                    "font": {
                      "color": "black",
                      "size": 15
                    },
                    "showarrow": false,
                    "text": "Gender",
                    "textangle": 0,
                    "x": 0.62,
                    "xanchor": "left",
                    "xref": "paper",
                    "y": 1.1,
                    "yref": "paper"
                  },
                  {
                    "font": {
                      "color": "black",
                      "size": 15
                    },
                    "showarrow": false,
                    "text": "Feel hopeless",
                    "textangle": 0,
                    "x": 0.9,
                    "xanchor": "left",
                    "xref": "paper",
                    "y": 1.1,
                    "yref": "paper"
                  }
                ],
                "template": {
                  "data": {
                    "bar": [
                      {
                        "error_x": {
                          "color": "#2a3f5f"
                        },
                        "error_y": {
                          "color": "#2a3f5f"
                        },
                        "marker": {
                          "line": {
                            "color": "#E5ECF6",
                            "width": 0.5
                          },
                          "pattern": {
                            "fillmode": "overlay",
                            "size": 10,
                            "solidity": 0.2
                          }
                        },
                        "type": "bar"
                      }
                    ],
                    "barpolar": [
                      {
                        "marker": {
                          "line": {
                            "color": "#E5ECF6",
                            "width": 0.5
                          },
                          "pattern": {
                            "fillmode": "overlay",
                            "size": 10,
                            "solidity": 0.2
                          }
                        },
                        "type": "barpolar"
                      }
                    ],
                    "carpet": [
                      {
                        "aaxis": {
                          "endlinecolor": "#2a3f5f",
                          "gridcolor": "white",
                          "linecolor": "white",
                          "minorgridcolor": "white",
                          "startlinecolor": "#2a3f5f"
                        },
                        "baxis": {
                          "endlinecolor": "#2a3f5f",
                          "gridcolor": "white",
                          "linecolor": "white",
                          "minorgridcolor": "white",
                          "startlinecolor": "#2a3f5f"
                        },
                        "type": "carpet"
                      }
                    ],
                    "choropleth": [
                      {
                        "colorbar": {
                          "outlinewidth": 0,
                          "ticks": ""
                        },
                        "type": "choropleth"
                      }
                    ],
                    "contour": [
                      {
                        "colorbar": {
                          "outlinewidth": 0,
                          "ticks": ""
                        },
                        "colorscale": [
                          [
                            0,
                            "#0d0887"
                          ],
                          [
                            0.1111111111111111,
                            "#46039f"
                          ],
                          [
                            0.2222222222222222,
                            "#7201a8"
                          ],
                          [
                            0.3333333333333333,
                            "#9c179e"
                          ],
                          [
                            0.4444444444444444,
                            "#bd3786"
                          ],
                          [
                            0.5555555555555556,
                            "#d8576b"
                          ],
                          [
                            0.6666666666666666,
                            "#ed7953"
                          ],
                          [
                            0.7777777777777778,
                            "#fb9f3a"
                          ],
                          [
                            0.8888888888888888,
                            "#fdca26"
                          ],
                          [
                            1,
                            "#f0f921"
                          ]
                        ],
                        "type": "contour"
                      }
                    ],
                    "contourcarpet": [
                      {
                        "colorbar": {
                          "outlinewidth": 0,
                          "ticks": ""
                        },
                        "type": "contourcarpet"
                      }
                    ],
                    "heatmap": [
                      {
                        "colorbar": {
                          "outlinewidth": 0,
                          "ticks": ""
                        },
                        "colorscale": [
                          [
                            0,
                            "#0d0887"
                          ],
                          [
                            0.1111111111111111,
                            "#46039f"
                          ],
                          [
                            0.2222222222222222,
                            "#7201a8"
                          ],
                          [
                            0.3333333333333333,
                            "#9c179e"
                          ],
                          [
                            0.4444444444444444,
                            "#bd3786"
                          ],
                          [
                            0.5555555555555556,
                            "#d8576b"
                          ],
                          [
                            0.6666666666666666,
                            "#ed7953"
                          ],
                          [
                            0.7777777777777778,
                            "#fb9f3a"
                          ],
                          [
                            0.8888888888888888,
                            "#fdca26"
                          ],
                          [
                            1,
                            "#f0f921"
                          ]
                        ],
                        "type": "heatmap"
                      }
                    ],
                    "heatmapgl": [
                      {
                        "colorbar": {
                          "outlinewidth": 0,
                          "ticks": ""
                        },
                        "colorscale": [
                          [
                            0,
                            "#0d0887"
                          ],
                          [
                            0.1111111111111111,
                            "#46039f"
                          ],
                          [
                            0.2222222222222222,
                            "#7201a8"
                          ],
                          [
                            0.3333333333333333,
                            "#9c179e"
                          ],
                          [
                            0.4444444444444444,
                            "#bd3786"
                          ],
                          [
                            0.5555555555555556,
                            "#d8576b"
                          ],
                          [
                            0.6666666666666666,
                            "#ed7953"
                          ],
                          [
                            0.7777777777777778,
                            "#fb9f3a"
                          ],
                          [
                            0.8888888888888888,
                            "#fdca26"
                          ],
                          [
                            1,
                            "#f0f921"
                          ]
                        ],
                        "type": "heatmapgl"
                      }
                    ],
                    "histogram": [
                      {
                        "marker": {
                          "pattern": {
                            "fillmode": "overlay",
                            "size": 10,
                            "solidity": 0.2
                          }
                        },
                        "type": "histogram"
                      }
                    ],
                    "histogram2d": [
                      {
                        "colorbar": {
                          "outlinewidth": 0,
                          "ticks": ""
                        },
                        "colorscale": [
                          [
                            0,
                            "#0d0887"
                          ],
                          [
                            0.1111111111111111,
                            "#46039f"
                          ],
                          [
                            0.2222222222222222,
                            "#7201a8"
                          ],
                          [
                            0.3333333333333333,
                            "#9c179e"
                          ],
                          [
                            0.4444444444444444,
                            "#bd3786"
                          ],
                          [
                            0.5555555555555556,
                            "#d8576b"
                          ],
                          [
                            0.6666666666666666,
                            "#ed7953"
                          ],
                          [
                            0.7777777777777778,
                            "#fb9f3a"
                          ],
                          [
                            0.8888888888888888,
                            "#fdca26"
                          ],
                          [
                            1,
                            "#f0f921"
                          ]
                        ],
                        "type": "histogram2d"
                      }
                    ],
                    "histogram2dcontour": [
                      {
                        "colorbar": {
                          "outlinewidth": 0,
                          "ticks": ""
                        },
                        "colorscale": [
                          [
                            0,
                            "#0d0887"
                          ],
                          [
                            0.1111111111111111,
                            "#46039f"
                          ],
                          [
                            0.2222222222222222,
                            "#7201a8"
                          ],
                          [
                            0.3333333333333333,
                            "#9c179e"
                          ],
                          [
                            0.4444444444444444,
                            "#bd3786"
                          ],
                          [
                            0.5555555555555556,
                            "#d8576b"
                          ],
                          [
                            0.6666666666666666,
                            "#ed7953"
                          ],
                          [
                            0.7777777777777778,
                            "#fb9f3a"
                          ],
                          [
                            0.8888888888888888,
                            "#fdca26"
                          ],
                          [
                            1,
                            "#f0f921"
                          ]
                        ],
                        "type": "histogram2dcontour"
                      }
                    ],
                    "mesh3d": [
                      {
                        "colorbar": {
                          "outlinewidth": 0,
                          "ticks": ""
                        },
                        "type": "mesh3d"
                      }
                    ],
                    "parcoords": [
                      {
                        "line": {
                          "colorbar": {
                            "outlinewidth": 0,
                            "ticks": ""
                          }
                        },
                        "type": "parcoords"
                      }
                    ],
                    "pie": [
                      {
                        "automargin": true,
                        "type": "pie"
                      }
                    ],
                    "scatter": [
                      {
                        "fillpattern": {
                          "fillmode": "overlay",
                          "size": 10,
                          "solidity": 0.2
                        },
                        "type": "scatter"
                      }
                    ],
                    "scatter3d": [
                      {
                        "line": {
                          "colorbar": {
                            "outlinewidth": 0,
                            "ticks": ""
                          }
                        },
                        "marker": {
                          "colorbar": {
                            "outlinewidth": 0,
                            "ticks": ""
                          }
                        },
                        "type": "scatter3d"
                      }
                    ],
                    "scattercarpet": [
                      {
                        "marker": {
                          "colorbar": {
                            "outlinewidth": 0,
                            "ticks": ""
                          }
                        },
                        "type": "scattercarpet"
                      }
                    ],
                    "scattergeo": [
                      {
                        "marker": {
                          "colorbar": {
                            "outlinewidth": 0,
                            "ticks": ""
                          }
                        },
                        "type": "scattergeo"
                      }
                    ],
                    "scattergl": [
                      {
                        "marker": {
                          "colorbar": {
                            "outlinewidth": 0,
                            "ticks": ""
                          }
                        },
                        "type": "scattergl"
                      }
                    ],
                    "scattermapbox": [
                      {
                        "marker": {
                          "colorbar": {
                            "outlinewidth": 0,
                            "ticks": ""
                          }
                        },
                        "type": "scattermapbox"
                      }
                    ],
                    "scatterpolar": [
                      {
                        "marker": {
                          "colorbar": {
                            "outlinewidth": 0,
                            "ticks": ""
                          }
                        },
                        "type": "scatterpolar"
                      }
                    ],
                    "scatterpolargl": [
                      {
                        "marker": {
                          "colorbar": {
                            "outlinewidth": 0,
                            "ticks": ""
                          }
                        },
                        "type": "scatterpolargl"
                      }
                    ],
                    "scatterternary": [
                      {
                        "marker": {
                          "colorbar": {
                            "outlinewidth": 0,
                            "ticks": ""
                          }
                        },
                        "type": "scatterternary"
                      }
                    ],
                    "surface": [
                      {
                        "colorbar": {
                          "outlinewidth": 0,
                          "ticks": ""
                        },
                        "colorscale": [
                          [
                            0,
                            "#0d0887"
                          ],
                          [
                            0.1111111111111111,
                            "#46039f"
                          ],
                          [
                            0.2222222222222222,
                            "#7201a8"
                          ],
                          [
                            0.3333333333333333,
                            "#9c179e"
                          ],
                          [
                            0.4444444444444444,
                            "#bd3786"
                          ],
                          [
                            0.5555555555555556,
                            "#d8576b"
                          ],
                          [
                            0.6666666666666666,
                            "#ed7953"
                          ],
                          [
                            0.7777777777777778,
                            "#fb9f3a"
                          ],
                          [
                            0.8888888888888888,
                            "#fdca26"
                          ],
                          [
                            1,
                            "#f0f921"
                          ]
                        ],
                        "type": "surface"
                      }
                    ],
                    "table": [
                      {
                        "cells": {
                          "fill": {
                            "color": "#EBF0F8"
                          },
                          "line": {
                            "color": "white"
                          }
                        },
                        "header": {
                          "fill": {
                            "color": "#C8D4E3"
                          },
                          "line": {
                            "color": "white"
                          }
                        },
                        "type": "table"
                      }
                    ]
                  },
                  "layout": {
                    "annotationdefaults": {
                      "arrowcolor": "#2a3f5f",
                      "arrowhead": 0,
                      "arrowwidth": 1
                    },
                    "autotypenumbers": "strict",
                    "coloraxis": {
                      "colorbar": {
                        "outlinewidth": 0,
                        "ticks": ""
                      }
                    },
                    "colorscale": {
                      "diverging": [
                        [
                          0,
                          "#8e0152"
                        ],
                        [
                          0.1,
                          "#c51b7d"
                        ],
                        [
                          0.2,
                          "#de77ae"
                        ],
                        [
                          0.3,
                          "#f1b6da"
                        ],
                        [
                          0.4,
                          "#fde0ef"
                        ],
                        [
                          0.5,
                          "#f7f7f7"
                        ],
                        [
                          0.6,
                          "#e6f5d0"
                        ],
                        [
                          0.7,
                          "#b8e186"
                        ],
                        [
                          0.8,
                          "#7fbc41"
                        ],
                        [
                          0.9,
                          "#4d9221"
                        ],
                        [
                          1,
                          "#276419"
                        ]
                      ],
                      "sequential": [
                        [
                          0,
                          "#0d0887"
                        ],
                        [
                          0.1111111111111111,
                          "#46039f"
                        ],
                        [
                          0.2222222222222222,
                          "#7201a8"
                        ],
                        [
                          0.3333333333333333,
                          "#9c179e"
                        ],
                        [
                          0.4444444444444444,
                          "#bd3786"
                        ],
                        [
                          0.5555555555555556,
                          "#d8576b"
                        ],
                        [
                          0.6666666666666666,
                          "#ed7953"
                        ],
                        [
                          0.7777777777777778,
                          "#fb9f3a"
                        ],
                        [
                          0.8888888888888888,
                          "#fdca26"
                        ],
                        [
                          1,
                          "#f0f921"
                        ]
                      ],
                      "sequentialminus": [
                        [
                          0,
                          "#0d0887"
                        ],
                        [
                          0.1111111111111111,
                          "#46039f"
                        ],
                        [
                          0.2222222222222222,
                          "#7201a8"
                        ],
                        [
                          0.3333333333333333,
                          "#9c179e"
                        ],
                        [
                          0.4444444444444444,
                          "#bd3786"
                        ],
                        [
                          0.5555555555555556,
                          "#d8576b"
                        ],
                        [
                          0.6666666666666666,
                          "#ed7953"
                        ],
                        [
                          0.7777777777777778,
                          "#fb9f3a"
                        ],
                        [
                          0.8888888888888888,
                          "#fdca26"
                        ],
                        [
                          1,
                          "#f0f921"
                        ]
                      ]
                    },
                    "colorway": [
                      "#636efa",
                      "#EF553B",
                      "#00cc96",
                      "#ab63fa",
                      "#FFA15A",
                      "#19d3f3",
                      "#FF6692",
                      "#B6E880",
                      "#FF97FF",
                      "#FECB52"
                    ],
                    "font": {
                      "color": "#2a3f5f"
                    },
                    "geo": {
                      "bgcolor": "white",
                      "lakecolor": "white",
                      "landcolor": "#E5ECF6",
                      "showlakes": true,
                      "showland": true,
                      "subunitcolor": "white"
                    },
                    "hoverlabel": {
                      "align": "left"
                    },
                    "hovermode": "closest",
                    "mapbox": {
                      "style": "light"
                    },
                    "paper_bgcolor": "white",
                    "plot_bgcolor": "#E5ECF6",
                    "polar": {
                      "angularaxis": {
                        "gridcolor": "white",
                        "linecolor": "white",
                        "ticks": ""
                      },
                      "bgcolor": "#E5ECF6",
                      "radialaxis": {
                        "gridcolor": "white",
                        "linecolor": "white",
                        "ticks": ""
                      }
                    },
                    "scene": {
                      "xaxis": {
                        "backgroundcolor": "#E5ECF6",
                        "gridcolor": "white",
                        "gridwidth": 2,
                        "linecolor": "white",
                        "showbackground": true,
                        "ticks": "",
                        "zerolinecolor": "white"
                      },
                      "yaxis": {
                        "backgroundcolor": "#E5ECF6",
                        "gridcolor": "white",
                        "gridwidth": 2,
                        "linecolor": "white",
                        "showbackground": true,
                        "ticks": "",
                        "zerolinecolor": "white"
                      },
                      "zaxis": {
                        "backgroundcolor": "#E5ECF6",
                        "gridcolor": "white",
                        "gridwidth": 2,
                        "linecolor": "white",
                        "showbackground": true,
                        "ticks": "",
                        "zerolinecolor": "white"
                      }
                    },
                    "shapedefaults": {
                      "line": {
                        "color": "#2a3f5f"
                      }
                    },
                    "ternary": {
                      "aaxis": {
                        "gridcolor": "white",
                        "linecolor": "white",
                        "ticks": ""
                      },
                      "baxis": {
                        "gridcolor": "white",
                        "linecolor": "white",
                        "ticks": ""
                      },
                      "bgcolor": "#E5ECF6",
                      "caxis": {
                        "gridcolor": "white",
                        "linecolor": "white",
                        "ticks": ""
                      }
                    },
                    "title": {
                      "x": 0.05
                    },
                    "xaxis": {
                      "automargin": true,
                      "gridcolor": "white",
                      "linecolor": "white",
                      "ticks": "",
                      "title": {
                        "standoff": 15
                      },
                      "zerolinecolor": "white",
                      "zerolinewidth": 2
                    },
                    "yaxis": {
                      "automargin": true,
                      "gridcolor": "white",
                      "linecolor": "white",
                      "ticks": "",
                      "title": {
                        "standoff": 15
                      },
                      "zerolinecolor": "white",
                      "zerolinewidth": 2
                    }
                  }
                }
              }
            },
            "text/html": [
              "<div>                            <div id=\"8b74e668-3a63-471e-a547-f6c88a690918\" class=\"plotly-graph-div\" style=\"height:525px; width:100%;\"></div>            <script type=\"text/javascript\">                require([\"plotly\"], function(Plotly) {                    window.PLOTLYENV=window.PLOTLYENV || {};                                    if (document.getElementById(\"8b74e668-3a63-471e-a547-f6c88a690918\")) {                    Plotly.newPlot(                        \"8b74e668-3a63-471e-a547-f6c88a690918\",                        [{\"link\":{\"color\":[\"#fb8072\",\"#fb8072\",\"#fb8072\",\"#d9d9d9\",\"#d9d9d9\",\"#d9d9d9\",\"#d9d9d9\",\"#d9d9d9\",\"#fb8072\",\"#d9d9d9\",\"#d9d9d9\",\"#d9d9d9\",\"#d9d9d9\",\"#fb8072\",\"#fb8072\",\"#d9d9d9\",\"#fb8072\",\"#d9d9d9\",\"#fb8072\"],\"source\":[0,0,0,1,1,1,2,2,2,3,3,4,4,5,5,6,6,7,7],\"target\":[3,4,5,3,4,5,3,4,5,6,7,6,7,6,7,8,9,8,9],\"value\":[1070,2904,1496,4593,12162,6024,56,85,52,4483,3470,12640,11740,5470,5988,13407,9186,16189,5009]},\"node\":{\"color\":[\"#fb8072\",\"#8d8d8d\",\"#8d8d8d\",\"#8d8d8d\",\"#8d8d8d\",\"#fb8072\",\"#8d8d8d\",\"#8d8d8d\",\"#d9d9d9\",\"#fb8072\",\"#d9d9d9\",\"#d9d9d9\",\"#8d8d8d\",\"#d9d9d9\",\"#8d8d8d\",\"#d9d9d9\",\"#fb8072\",\"#fb8072\",\"#fb8072\"],\"label\":[\"Bad (<50%)\",\"Average (50-80%)\",\"Good (80-100%)\",\"Underweight\",\"Normal\",\"Overweight or Obese\",\"Female\",\"Male\",\"No\",\"Yes\"],\"line\":{\"color\":\"black\",\"width\":0.5},\"pad\":15,\"thickness\":20},\"type\":\"sankey\"}],                        {\"template\":{\"data\":{\"histogram2dcontour\":[{\"type\":\"histogram2dcontour\",\"colorbar\":{\"outlinewidth\":0,\"ticks\":\"\"},\"colorscale\":[[0.0,\"#0d0887\"],[0.1111111111111111,\"#46039f\"],[0.2222222222222222,\"#7201a8\"],[0.3333333333333333,\"#9c179e\"],[0.4444444444444444,\"#bd3786\"],[0.5555555555555556,\"#d8576b\"],[0.6666666666666666,\"#ed7953\"],[0.7777777777777778,\"#fb9f3a\"],[0.8888888888888888,\"#fdca26\"],[1.0,\"#f0f921\"]]}],\"choropleth\":[{\"type\":\"choropleth\",\"colorbar\":{\"outlinewidth\":0,\"ticks\":\"\"}}],\"histogram2d\":[{\"type\":\"histogram2d\",\"colorbar\":{\"outlinewidth\":0,\"ticks\":\"\"},\"colorscale\":[[0.0,\"#0d0887\"],[0.1111111111111111,\"#46039f\"],[0.2222222222222222,\"#7201a8\"],[0.3333333333333333,\"#9c179e\"],[0.4444444444444444,\"#bd3786\"],[0.5555555555555556,\"#d8576b\"],[0.6666666666666666,\"#ed7953\"],[0.7777777777777778,\"#fb9f3a\"],[0.8888888888888888,\"#fdca26\"],[1.0,\"#f0f921\"]]}],\"heatmap\":[{\"type\":\"heatmap\",\"colorbar\":{\"outlinewidth\":0,\"ticks\":\"\"},\"colorscale\":[[0.0,\"#0d0887\"],[0.1111111111111111,\"#46039f\"],[0.2222222222222222,\"#7201a8\"],[0.3333333333333333,\"#9c179e\"],[0.4444444444444444,\"#bd3786\"],[0.5555555555555556,\"#d8576b\"],[0.6666666666666666,\"#ed7953\"],[0.7777777777777778,\"#fb9f3a\"],[0.8888888888888888,\"#fdca26\"],[1.0,\"#f0f921\"]]}],\"heatmapgl\":[{\"type\":\"heatmapgl\",\"colorbar\":{\"outlinewidth\":0,\"ticks\":\"\"},\"colorscale\":[[0.0,\"#0d0887\"],[0.1111111111111111,\"#46039f\"],[0.2222222222222222,\"#7201a8\"],[0.3333333333333333,\"#9c179e\"],[0.4444444444444444,\"#bd3786\"],[0.5555555555555556,\"#d8576b\"],[0.6666666666666666,\"#ed7953\"],[0.7777777777777778,\"#fb9f3a\"],[0.8888888888888888,\"#fdca26\"],[1.0,\"#f0f921\"]]}],\"contourcarpet\":[{\"type\":\"contourcarpet\",\"colorbar\":{\"outlinewidth\":0,\"ticks\":\"\"}}],\"contour\":[{\"type\":\"contour\",\"colorbar\":{\"outlinewidth\":0,\"ticks\":\"\"},\"colorscale\":[[0.0,\"#0d0887\"],[0.1111111111111111,\"#46039f\"],[0.2222222222222222,\"#7201a8\"],[0.3333333333333333,\"#9c179e\"],[0.4444444444444444,\"#bd3786\"],[0.5555555555555556,\"#d8576b\"],[0.6666666666666666,\"#ed7953\"],[0.7777777777777778,\"#fb9f3a\"],[0.8888888888888888,\"#fdca26\"],[1.0,\"#f0f921\"]]}],\"surface\":[{\"type\":\"surface\",\"colorbar\":{\"outlinewidth\":0,\"ticks\":\"\"},\"colorscale\":[[0.0,\"#0d0887\"],[0.1111111111111111,\"#46039f\"],[0.2222222222222222,\"#7201a8\"],[0.3333333333333333,\"#9c179e\"],[0.4444444444444444,\"#bd3786\"],[0.5555555555555556,\"#d8576b\"],[0.6666666666666666,\"#ed7953\"],[0.7777777777777778,\"#fb9f3a\"],[0.8888888888888888,\"#fdca26\"],[1.0,\"#f0f921\"]]}],\"mesh3d\":[{\"type\":\"mesh3d\",\"colorbar\":{\"outlinewidth\":0,\"ticks\":\"\"}}],\"scatter\":[{\"fillpattern\":{\"fillmode\":\"overlay\",\"size\":10,\"solidity\":0.2},\"type\":\"scatter\"}],\"parcoords\":[{\"type\":\"parcoords\",\"line\":{\"colorbar\":{\"outlinewidth\":0,\"ticks\":\"\"}}}],\"scatterpolargl\":[{\"type\":\"scatterpolargl\",\"marker\":{\"colorbar\":{\"outlinewidth\":0,\"ticks\":\"\"}}}],\"bar\":[{\"error_x\":{\"color\":\"#2a3f5f\"},\"error_y\":{\"color\":\"#2a3f5f\"},\"marker\":{\"line\":{\"color\":\"#E5ECF6\",\"width\":0.5},\"pattern\":{\"fillmode\":\"overlay\",\"size\":10,\"solidity\":0.2}},\"type\":\"bar\"}],\"scattergeo\":[{\"type\":\"scattergeo\",\"marker\":{\"colorbar\":{\"outlinewidth\":0,\"ticks\":\"\"}}}],\"scatterpolar\":[{\"type\":\"scatterpolar\",\"marker\":{\"colorbar\":{\"outlinewidth\":0,\"ticks\":\"\"}}}],\"histogram\":[{\"marker\":{\"pattern\":{\"fillmode\":\"overlay\",\"size\":10,\"solidity\":0.2}},\"type\":\"histogram\"}],\"scattergl\":[{\"type\":\"scattergl\",\"marker\":{\"colorbar\":{\"outlinewidth\":0,\"ticks\":\"\"}}}],\"scatter3d\":[{\"type\":\"scatter3d\",\"line\":{\"colorbar\":{\"outlinewidth\":0,\"ticks\":\"\"}},\"marker\":{\"colorbar\":{\"outlinewidth\":0,\"ticks\":\"\"}}}],\"scattermapbox\":[{\"type\":\"scattermapbox\",\"marker\":{\"colorbar\":{\"outlinewidth\":0,\"ticks\":\"\"}}}],\"scatterternary\":[{\"type\":\"scatterternary\",\"marker\":{\"colorbar\":{\"outlinewidth\":0,\"ticks\":\"\"}}}],\"scattercarpet\":[{\"type\":\"scattercarpet\",\"marker\":{\"colorbar\":{\"outlinewidth\":0,\"ticks\":\"\"}}}],\"carpet\":[{\"aaxis\":{\"endlinecolor\":\"#2a3f5f\",\"gridcolor\":\"white\",\"linecolor\":\"white\",\"minorgridcolor\":\"white\",\"startlinecolor\":\"#2a3f5f\"},\"baxis\":{\"endlinecolor\":\"#2a3f5f\",\"gridcolor\":\"white\",\"linecolor\":\"white\",\"minorgridcolor\":\"white\",\"startlinecolor\":\"#2a3f5f\"},\"type\":\"carpet\"}],\"table\":[{\"cells\":{\"fill\":{\"color\":\"#EBF0F8\"},\"line\":{\"color\":\"white\"}},\"header\":{\"fill\":{\"color\":\"#C8D4E3\"},\"line\":{\"color\":\"white\"}},\"type\":\"table\"}],\"barpolar\":[{\"marker\":{\"line\":{\"color\":\"#E5ECF6\",\"width\":0.5},\"pattern\":{\"fillmode\":\"overlay\",\"size\":10,\"solidity\":0.2}},\"type\":\"barpolar\"}],\"pie\":[{\"automargin\":true,\"type\":\"pie\"}]},\"layout\":{\"autotypenumbers\":\"strict\",\"colorway\":[\"#636efa\",\"#EF553B\",\"#00cc96\",\"#ab63fa\",\"#FFA15A\",\"#19d3f3\",\"#FF6692\",\"#B6E880\",\"#FF97FF\",\"#FECB52\"],\"font\":{\"color\":\"#2a3f5f\"},\"hovermode\":\"closest\",\"hoverlabel\":{\"align\":\"left\"},\"paper_bgcolor\":\"white\",\"plot_bgcolor\":\"#E5ECF6\",\"polar\":{\"bgcolor\":\"#E5ECF6\",\"angularaxis\":{\"gridcolor\":\"white\",\"linecolor\":\"white\",\"ticks\":\"\"},\"radialaxis\":{\"gridcolor\":\"white\",\"linecolor\":\"white\",\"ticks\":\"\"}},\"ternary\":{\"bgcolor\":\"#E5ECF6\",\"aaxis\":{\"gridcolor\":\"white\",\"linecolor\":\"white\",\"ticks\":\"\"},\"baxis\":{\"gridcolor\":\"white\",\"linecolor\":\"white\",\"ticks\":\"\"},\"caxis\":{\"gridcolor\":\"white\",\"linecolor\":\"white\",\"ticks\":\"\"}},\"coloraxis\":{\"colorbar\":{\"outlinewidth\":0,\"ticks\":\"\"}},\"colorscale\":{\"sequential\":[[0.0,\"#0d0887\"],[0.1111111111111111,\"#46039f\"],[0.2222222222222222,\"#7201a8\"],[0.3333333333333333,\"#9c179e\"],[0.4444444444444444,\"#bd3786\"],[0.5555555555555556,\"#d8576b\"],[0.6666666666666666,\"#ed7953\"],[0.7777777777777778,\"#fb9f3a\"],[0.8888888888888888,\"#fdca26\"],[1.0,\"#f0f921\"]],\"sequentialminus\":[[0.0,\"#0d0887\"],[0.1111111111111111,\"#46039f\"],[0.2222222222222222,\"#7201a8\"],[0.3333333333333333,\"#9c179e\"],[0.4444444444444444,\"#bd3786\"],[0.5555555555555556,\"#d8576b\"],[0.6666666666666666,\"#ed7953\"],[0.7777777777777778,\"#fb9f3a\"],[0.8888888888888888,\"#fdca26\"],[1.0,\"#f0f921\"]],\"diverging\":[[0,\"#8e0152\"],[0.1,\"#c51b7d\"],[0.2,\"#de77ae\"],[0.3,\"#f1b6da\"],[0.4,\"#fde0ef\"],[0.5,\"#f7f7f7\"],[0.6,\"#e6f5d0\"],[0.7,\"#b8e186\"],[0.8,\"#7fbc41\"],[0.9,\"#4d9221\"],[1,\"#276419\"]]},\"xaxis\":{\"gridcolor\":\"white\",\"linecolor\":\"white\",\"ticks\":\"\",\"title\":{\"standoff\":15},\"zerolinecolor\":\"white\",\"automargin\":true,\"zerolinewidth\":2},\"yaxis\":{\"gridcolor\":\"white\",\"linecolor\":\"white\",\"ticks\":\"\",\"title\":{\"standoff\":15},\"zerolinecolor\":\"white\",\"automargin\":true,\"zerolinewidth\":2},\"scene\":{\"xaxis\":{\"backgroundcolor\":\"#E5ECF6\",\"gridcolor\":\"white\",\"linecolor\":\"white\",\"showbackground\":true,\"ticks\":\"\",\"zerolinecolor\":\"white\",\"gridwidth\":2},\"yaxis\":{\"backgroundcolor\":\"#E5ECF6\",\"gridcolor\":\"white\",\"linecolor\":\"white\",\"showbackground\":true,\"ticks\":\"\",\"zerolinecolor\":\"white\",\"gridwidth\":2},\"zaxis\":{\"backgroundcolor\":\"#E5ECF6\",\"gridcolor\":\"white\",\"linecolor\":\"white\",\"showbackground\":true,\"ticks\":\"\",\"zerolinecolor\":\"white\",\"gridwidth\":2}},\"shapedefaults\":{\"line\":{\"color\":\"#2a3f5f\"}},\"annotationdefaults\":{\"arrowcolor\":\"#2a3f5f\",\"arrowhead\":0,\"arrowwidth\":1},\"geo\":{\"bgcolor\":\"white\",\"landcolor\":\"#E5ECF6\",\"subunitcolor\":\"white\",\"showland\":true,\"showlakes\":true,\"lakecolor\":\"white\"},\"title\":{\"x\":0.05},\"mapbox\":{\"style\":\"light\"}}},\"annotations\":[{\"font\":{\"color\":\"black\",\"size\":15},\"showarrow\":false,\"text\":\"Health index\",\"textangle\":0,\"x\":0,\"xanchor\":\"left\",\"xref\":\"paper\",\"y\":1.1,\"yref\":\"paper\"},{\"font\":{\"color\":\"black\",\"size\":15},\"showarrow\":false,\"text\":\"BMI level\",\"textangle\":0,\"x\":0.28,\"xanchor\":\"left\",\"xref\":\"paper\",\"y\":1.1,\"yref\":\"paper\"},{\"font\":{\"color\":\"black\",\"size\":15},\"showarrow\":false,\"text\":\"Gender\",\"textangle\":0,\"x\":0.62,\"xanchor\":\"left\",\"xref\":\"paper\",\"y\":1.1,\"yref\":\"paper\"},{\"font\":{\"color\":\"black\",\"size\":15},\"showarrow\":false,\"text\":\"Feel hopeless\",\"textangle\":0,\"x\":0.9,\"xanchor\":\"left\",\"xref\":\"paper\",\"y\":1.1,\"yref\":\"paper\"}]},                        {\"responsive\": true}                    ).then(function(){\n",
              "                            \n",
              "var gd = document.getElementById('8b74e668-3a63-471e-a547-f6c88a690918');\n",
              "var x = new MutationObserver(function (mutations, observer) {{\n",
              "        var display = window.getComputedStyle(gd).display;\n",
              "        if (!display || display === 'none') {{\n",
              "            console.log([gd, 'removed!']);\n",
              "            Plotly.purge(gd);\n",
              "            observer.disconnect();\n",
              "        }}\n",
              "}});\n",
              "\n",
              "// Listen for the removal of the full notebook cells\n",
              "var notebookContainer = gd.closest('#notebook-container');\n",
              "if (notebookContainer) {{\n",
              "    x.observe(notebookContainer, {childList: true});\n",
              "}}\n",
              "\n",
              "// Listen for the clearing of the current output cell\n",
              "var outputEl = gd.closest('.output');\n",
              "if (outputEl) {{\n",
              "    x.observe(outputEl, {childList: true});\n",
              "}}\n",
              "\n",
              "                        })                };                });            </script>        </div>"
            ]
          },
          "metadata": {},
          "output_type": "display_data"
        }
      ],
      "source": [
        "# Prepare a pivot table for the first level\n",
        "\n",
        "df1 = new_df.groupby(['health_index_cat','BMI_cat'])['index'].count().reset_index()\n",
        "df1.columns = ['source','target','value']\n",
        "df1\n",
        "\n",
        "# Prepare a pivot table for the second level\n",
        "df2 = new_df.groupby(['BMI_cat','gender'])['index'].count().reset_index()\n",
        "df2.columns = ['source','target','value']\n",
        "df2\n",
        "\n",
        "df3 = new_df.groupby(['gender', 'hopeless'])['index'].count().reset_index()\n",
        "df3.columns = ['source','target','value']\n",
        "df3\n",
        "\n",
        "# Join both level (it's like a Cartesian product)\n",
        "links = pd.concat([df1, df2, df3], axis=0)\n",
        "links\n",
        "\n",
        "# Next we will find all the unique values in both the source and target columns\n",
        "unique_source_target = list(pd.unique(links[['source','target']].values.ravel('k')))\n",
        "\n",
        "# Next, we need to create a mapping dictionary. We will use a dictionary comprehension to do that.\n",
        "mapping_dict = {k: v for v, k in enumerate(unique_source_target)}\n",
        "mapping_dict\n",
        "\n",
        "# Next we need to map these values to the links dataframe that we created earlier.\n",
        "links['source'] = links['source'].map(mapping_dict)\n",
        "links['target'] = links['target'].map(mapping_dict)\n",
        "links\n",
        "\n",
        "# Now, we will convert this dataframe into a dictionary.\n",
        "links_dict = links.to_dict(orient='list')\n",
        "links_dict\n",
        "\n",
        "links['node_color'] = ['#fb8072', '#8d8d8d', '#8d8d8d', '#8d8d8d', '#8d8d8d', '#fb8072', '#8d8d8d', '#8d8d8d', '#d9d9d9', '#fb8072', '#d9d9d9', '#d9d9d9', '#8d8d8d', '#d9d9d9', '#8d8d8d', '#d9d9d9', '#fb8072', '#fb8072', '#fb8072']\n",
        "links['link_color'] = ['#fb8072', '#fb8072', '#fb8072', '#d9d9d9', '#d9d9d9', '#d9d9d9', '#d9d9d9', '#d9d9d9', '#fb8072', '#d9d9d9', '#d9d9d9', '#d9d9d9', '#d9d9d9', '#fb8072', '#fb8072', '#d9d9d9', '#fb8072', '#d9d9d9', '#fb8072']\n",
        "\n",
        "fig = go.Figure(data=[go.Sankey(\n",
        "    node = dict(\n",
        "        pad = 15,\n",
        "        thickness=20,\n",
        "        line=dict(color='black', width=0.5),\n",
        "        label = unique_source_target,\n",
        "        color = links['node_color']\n",
        "    ),\n",
        "    link = dict(\n",
        "        source= links_dict['source'],\n",
        "        target = links_dict['target'],\n",
        "        value = links_dict['value'],\n",
        "        color = links['link_color']\n",
        "    )\n",
        "\n",
        ")\n",
        "\n",
        "])\n",
        "\n",
        "\n",
        "fig.add_annotation(dict(font=dict(color='black',size=15),\n",
        "                                        x=0,\n",
        "                                        y=1.1,\n",
        "                                        showarrow=False,\n",
        "                                        text=\"Health index\",\n",
        "                                        textangle=0,\n",
        "                                        xanchor='left',\n",
        "                                        xref=\"paper\",\n",
        "                                        yref=\"paper\"))\n",
        "\n",
        "fig.add_annotation(dict(font=dict(color='black',size=15),\n",
        "                                        x=0.28,\n",
        "                                        y=1.1,\n",
        "                                        showarrow=False,\n",
        "                                        text=\"BMI level\",\n",
        "                                        textangle=0,\n",
        "                                        xanchor='left',\n",
        "                                        xref=\"paper\",\n",
        "                                        yref=\"paper\"))\n",
        "\n",
        "\n",
        "fig.add_annotation(dict(font=dict(color='black',size=15, ),\n",
        "                                        x=0.62,\n",
        "                                        y=1.1,\n",
        "                                        showarrow=False,\n",
        "                                        text=\"Gender\",\n",
        "                                        textangle=0,\n",
        "                                        xanchor='left',\n",
        "                                        xref=\"paper\",\n",
        "                                        yref=\"paper\"))\n",
        "\n",
        "fig.add_annotation(dict(font=dict(color='black',size=15),\n",
        "                                        x=0.9,\n",
        "                                        y=1.1,\n",
        "                                        showarrow=False,\n",
        "                                        text=\"Feel hopeless\",\n",
        "                                        textangle=0,\n",
        "                                        xanchor='left',\n",
        "                                        xref=\"paper\",\n",
        "                                        yref=\"paper\"))\n",
        "\n",
        "#fig.update_layout(title_text=\"Health index vs Health outcomes\", font_size=10)\n",
        "\n",
        "fig.show()"
      ]
    },
    {
      "cell_type": "markdown",
      "id": "096850e2",
      "metadata": {
        "id": "096850e2"
      },
      "source": [
        "## 2. Focused view"
      ]
    },
    {
      "cell_type": "markdown",
      "id": "fc9def34",
      "metadata": {
        "id": "fc9def34"
      },
      "source": [
        "**Daily schedule**\n"
      ]
    },
    {
      "cell_type": "code",
      "execution_count": null,
      "id": "b0305ecd",
      "metadata": {
        "id": "b0305ecd",
        "outputId": "c6021a73-e6a6-4ffe-f206-724ae7d71e46"
      },
      "outputs": [
        {
          "data": {
            "image/png": "[encoded data removed]",
            "text/plain": [
              "<Figure size 640x480 with 1 Axes>"
            ]
          },
          "metadata": {},
          "output_type": "display_data"
        }
      ],
      "source": [
        "# Viz 1\n",
        "sns.set_palette(\"summer\")\n",
        "\n",
        "\n",
        "sleep = {'Grades': ['Mostly A&B', 'Mostly C&D','Mostly F'],\n",
        "        'hour': [7.608138,7.182763,6.817337],\n",
        "        'Activity':['Sleep','Sleep','Sleep']}\n",
        "sleep = pd.DataFrame(sleep)\n",
        "\n",
        "sport_team = {'Grades': ['Mostly A&B', 'Mostly C&D','Mostly F'],\n",
        "        'hour': [2.031180, 1.760284, 1.674923],\n",
        "        'Activity':['Playing in sport teams','Playing in sport teams','Playing in sport teams']}\n",
        "sport_team = pd.DataFrame(sport_team)\n",
        "\n",
        "TV = {'Grades': ['Mostly A&B', 'Mostly C&D','Mostly F'],\n",
        "        'hour': [2.960508, 3.248973, 3.334365],\n",
        "        'Activity':['Wathing TV','Wathing TV','Wathing TV']}\n",
        "TV = pd.DataFrame(TV)\n",
        "\n",
        "computer_games = {'Grades': ['Mostly A&B', 'Mostly C&D','Mostly F'],\n",
        "        'hour': [3.967321, 4.293072, 4.504644],\n",
        "        'Activity':['Playing computer games','Playing computer games','Playing computer games']}\n",
        "computer_games = pd.DataFrame(computer_games)\n",
        "## edge of bubble\n",
        "## capital letter\n",
        "## drop x and y name\n",
        "## graph chart\n",
        "sns.scatterplot(data= sleep, x=\"Grades\", y=\"Activity\", size=\"hour\", legend=False, sizes=(500, 2500),edgecolor=\"black\",linewidth=1)\n",
        "sns.scatterplot(data= sport_team, x=\"Grades\", y=\"Activity\", size=\"hour\", legend=False, sizes=(500, 2500),edgecolor=\"black\",linewidth=1)\n",
        "sns.scatterplot(data= TV, x=\"Grades\", y=\"Activity\", size=\"hour\", legend=False, sizes=(500, 2500),edgecolor=\"black\",linewidth=1)\n",
        "sns.scatterplot(data= computer_games, x=\"Grades\", y=\"Activity\", size=\"hour\", legend=False, sizes=(500, 2500),edgecolor=\"black\",linewidth=1)\n",
        "plt.ylim(-0.6, 3.5)\n",
        "plt.xlim(-0.5, 2.4)\n",
        "sns.despine()\n",
        "sns.set(font_scale=1.5)\n",
        "sns.set_style(style='white')\n",
        "plt.xlabel(\" \")\n",
        "plt.ylabel(\" \")\n",
        "plt.show()"
      ]
    },
    {
      "cell_type": "code",
      "execution_count": null,
      "id": "e0dc2c8e",
      "metadata": {
        "id": "e0dc2c8e",
        "outputId": "3b557e36-031c-433d-da7b-f07c0391f788"
      },
      "outputs": [
        {
          "data": {
            "image/png": "[encoded data removed]",
            "text/plain": [
              "<Figure size 700x500 with 1 Axes>"
            ]
          },
          "metadata": {},
          "output_type": "display_data"
        }
      ],
      "source": [
        "# Time series\n",
        "\n",
        "# Time series for day schedule\n",
        "\n",
        "# Create a dataframe\n",
        "dfDailySchedule = pd.DataFrame({\n",
        "        'y': ['Sleep','Playing in sport teams','Watching TV','Playing computer games'],\n",
        "        'x': [-5.897,2.628,-4.004,1.8163]\n",
        "})\n",
        "\n",
        "# Set the figure size\n",
        "plt.figure(figsize=(7, 5))\n",
        "\n",
        "# Reorder this data frame\n",
        "dfDailySchedule = dfDailySchedule.sort_values(['y'], ascending=False).reset_index(drop=True)\n",
        "\n",
        "# Color\n",
        "a = dfDailySchedule['y']\n",
        "colors = ['#b3de69' if (s == 'Sleep') else 'grey' for s in a]\n",
        "\n",
        "a = sns.color_palette(\"Set2\")\n",
        "\n",
        "# Make a barplot\n",
        "p=sns.barplot(x=\"x\", y=\"y\", data=dfDailySchedule, estimator=sum, ci=None, palette=colors)\n",
        "\n",
        "sns.set_context(\"paper\", font_scale=1.9)\n",
        "p.set(xlabel=None, ylabel=None)\n",
        "plt.axvline(x = 0 , color = 'black', linewidth=1)\n",
        "sns.set_style(style='white')\n",
        "sns.despine()\n",
        "p.xaxis.set_major_formatter(mtick.PercentFormatter());"
      ]
    },
    {
      "cell_type": "markdown",
      "id": "eba80d01",
      "metadata": {
        "id": "eba80d01"
      },
      "source": [
        "**Nutrition**"
      ]
    },
    {
      "cell_type": "code",
      "execution_count": null,
      "id": "d44c6010",
      "metadata": {
        "id": "d44c6010",
        "outputId": "80874910-119a-4707-9c6e-b2a3f011c19e"
      },
      "outputs": [
        {
          "name": "stderr",
          "output_type": "stream",
          "text": [
            "C:\\Users\\Kate Shapovalenko\\AppData\\Local\\Temp\\ipykernel_30284\\2178366701.py:3: SettingWithCopyWarning:\n",
            "\n",
            "\n",
            "A value is trying to be set on a copy of a slice from a DataFrame.\n",
            "Try using .loc[row_indexer,col_indexer] = value instead\n",
            "\n",
            "See the caveats in the documentation: https://pandas.pydata.org/pandas-docs/stable/user_guide/indexing.html#returning-a-view-versus-a-copy\n",
            "\n",
            "C:\\Users\\Kate Shapovalenko\\AppData\\Local\\Temp\\ipykernel_30284\\2178366701.py:4: SettingWithCopyWarning:\n",
            "\n",
            "\n",
            "A value is trying to be set on a copy of a slice from a DataFrame.\n",
            "Try using .loc[row_indexer,col_indexer] = value instead\n",
            "\n",
            "See the caveats in the documentation: https://pandas.pydata.org/pandas-docs/stable/user_guide/indexing.html#returning-a-view-versus-a-copy\n",
            "\n",
            "C:\\Users\\Kate Shapovalenko\\AppData\\Local\\Temp\\ipykernel_30284\\2178366701.py:5: SettingWithCopyWarning:\n",
            "\n",
            "\n",
            "A value is trying to be set on a copy of a slice from a DataFrame.\n",
            "Try using .loc[row_indexer,col_indexer] = value instead\n",
            "\n",
            "See the caveats in the documentation: https://pandas.pydata.org/pandas-docs/stable/user_guide/indexing.html#returning-a-view-versus-a-copy\n",
            "\n",
            "C:\\Users\\Kate Shapovalenko\\AppData\\Local\\Temp\\ipykernel_30284\\2178366701.py:6: SettingWithCopyWarning:\n",
            "\n",
            "\n",
            "A value is trying to be set on a copy of a slice from a DataFrame.\n",
            "Try using .loc[row_indexer,col_indexer] = value instead\n",
            "\n",
            "See the caveats in the documentation: https://pandas.pydata.org/pandas-docs/stable/user_guide/indexing.html#returning-a-view-versus-a-copy\n",
            "\n",
            "C:\\Users\\Kate Shapovalenko\\AppData\\Local\\Temp\\ipykernel_30284\\2178366701.py:7: SettingWithCopyWarning:\n",
            "\n",
            "\n",
            "A value is trying to be set on a copy of a slice from a DataFrame.\n",
            "Try using .loc[row_indexer,col_indexer] = value instead\n",
            "\n",
            "See the caveats in the documentation: https://pandas.pydata.org/pandas-docs/stable/user_guide/indexing.html#returning-a-view-versus-a-copy\n",
            "\n",
            "C:\\Users\\Kate Shapovalenko\\AppData\\Local\\Temp\\ipykernel_30284\\2178366701.py:8: SettingWithCopyWarning:\n",
            "\n",
            "\n",
            "A value is trying to be set on a copy of a slice from a DataFrame.\n",
            "Try using .loc[row_indexer,col_indexer] = value instead\n",
            "\n",
            "See the caveats in the documentation: https://pandas.pydata.org/pandas-docs/stable/user_guide/indexing.html#returning-a-view-versus-a-copy\n",
            "\n",
            "C:\\Users\\Kate Shapovalenko\\AppData\\Local\\Temp\\ipykernel_30284\\2178366701.py:9: SettingWithCopyWarning:\n",
            "\n",
            "\n",
            "A value is trying to be set on a copy of a slice from a DataFrame.\n",
            "Try using .loc[row_indexer,col_indexer] = value instead\n",
            "\n",
            "See the caveats in the documentation: https://pandas.pydata.org/pandas-docs/stable/user_guide/indexing.html#returning-a-view-versus-a-copy\n",
            "\n",
            "C:\\Users\\Kate Shapovalenko\\AppData\\Local\\Temp\\ipykernel_30284\\2178366701.py:12: SettingWithCopyWarning:\n",
            "\n",
            "\n",
            "A value is trying to be set on a copy of a slice from a DataFrame\n",
            "\n",
            "See the caveats in the documentation: https://pandas.pydata.org/pandas-docs/stable/user_guide/indexing.html#returning-a-view-versus-a-copy\n",
            "\n",
            "C:\\Users\\Kate Shapovalenko\\AppData\\Local\\Temp\\ipykernel_30284\\2178366701.py:16: SettingWithCopyWarning:\n",
            "\n",
            "\n",
            "A value is trying to be set on a copy of a slice from a DataFrame\n",
            "\n",
            "See the caveats in the documentation: https://pandas.pydata.org/pandas-docs/stable/user_guide/indexing.html#returning-a-view-versus-a-copy\n",
            "\n",
            "C:\\Users\\Kate Shapovalenko\\AppData\\Local\\Temp\\ipykernel_30284\\2178366701.py:20: SettingWithCopyWarning:\n",
            "\n",
            "\n",
            "A value is trying to be set on a copy of a slice from a DataFrame\n",
            "\n",
            "See the caveats in the documentation: https://pandas.pydata.org/pandas-docs/stable/user_guide/indexing.html#returning-a-view-versus-a-copy\n",
            "\n",
            "C:\\Users\\Kate Shapovalenko\\AppData\\Local\\Temp\\ipykernel_30284\\2178366701.py:24: SettingWithCopyWarning:\n",
            "\n",
            "\n",
            "A value is trying to be set on a copy of a slice from a DataFrame\n",
            "\n",
            "See the caveats in the documentation: https://pandas.pydata.org/pandas-docs/stable/user_guide/indexing.html#returning-a-view-versus-a-copy\n",
            "\n",
            "C:\\Users\\Kate Shapovalenko\\AppData\\Local\\Temp\\ipykernel_30284\\2178366701.py:28: SettingWithCopyWarning:\n",
            "\n",
            "\n",
            "A value is trying to be set on a copy of a slice from a DataFrame\n",
            "\n",
            "See the caveats in the documentation: https://pandas.pydata.org/pandas-docs/stable/user_guide/indexing.html#returning-a-view-versus-a-copy\n",
            "\n",
            "C:\\Users\\Kate Shapovalenko\\AppData\\Local\\Temp\\ipykernel_30284\\2178366701.py:32: SettingWithCopyWarning:\n",
            "\n",
            "\n",
            "A value is trying to be set on a copy of a slice from a DataFrame\n",
            "\n",
            "See the caveats in the documentation: https://pandas.pydata.org/pandas-docs/stable/user_guide/indexing.html#returning-a-view-versus-a-copy\n",
            "\n",
            "C:\\Users\\Kate Shapovalenko\\AppData\\Local\\Temp\\ipykernel_30284\\2178366701.py:36: SettingWithCopyWarning:\n",
            "\n",
            "\n",
            "A value is trying to be set on a copy of a slice from a DataFrame\n",
            "\n",
            "See the caveats in the documentation: https://pandas.pydata.org/pandas-docs/stable/user_guide/indexing.html#returning-a-view-versus-a-copy\n",
            "\n"
          ]
        },
        {
          "data": {
            "text/html": [
              "<div>\n",
              "<style scoped>\n",
              "    .dataframe tbody tr th:only-of-type {\n",
              "        vertical-align: middle;\n",
              "    }\n",
              "\n",
              "    .dataframe tbody tr th {\n",
              "        vertical-align: top;\n",
              "    }\n",
              "\n",
              "    .dataframe thead th {\n",
              "        text-align: right;\n",
              "    }\n",
              "</style>\n",
              "<table border=\"1\" class=\"dataframe\">\n",
              "  <thead>\n",
              "    <tr style=\"text-align: right;\">\n",
              "      <th></th>\n",
              "      <th>value</th>\n",
              "      <th>name</th>\n",
              "      <th>year</th>\n",
              "    </tr>\n",
              "  </thead>\n",
              "  <tbody>\n",
              "    <tr>\n",
              "      <th>0</th>\n",
              "      <td>2.0</td>\n",
              "      <td>juice</td>\n",
              "      <td>2019</td>\n",
              "    </tr>\n",
              "    <tr>\n",
              "      <th>1</th>\n",
              "      <td>2.0</td>\n",
              "      <td>juice</td>\n",
              "      <td>2019</td>\n",
              "    </tr>\n",
              "    <tr>\n",
              "      <th>2</th>\n",
              "      <td>1.0</td>\n",
              "      <td>juice</td>\n",
              "      <td>2019</td>\n",
              "    </tr>\n",
              "    <tr>\n",
              "      <th>3</th>\n",
              "      <td>2.0</td>\n",
              "      <td>juice</td>\n",
              "      <td>2019</td>\n",
              "    </tr>\n",
              "    <tr>\n",
              "      <th>4</th>\n",
              "      <td>4.0</td>\n",
              "      <td>juice</td>\n",
              "      <td>2019</td>\n",
              "    </tr>\n",
              "    <tr>\n",
              "      <th>...</th>\n",
              "      <td>...</td>\n",
              "      <td>...</td>\n",
              "      <td>...</td>\n",
              "    </tr>\n",
              "    <tr>\n",
              "      <th>43786</th>\n",
              "      <td>3.0</td>\n",
              "      <td>milk</td>\n",
              "      <td>1999</td>\n",
              "    </tr>\n",
              "    <tr>\n",
              "      <th>43787</th>\n",
              "      <td>1.0</td>\n",
              "      <td>milk</td>\n",
              "      <td>1999</td>\n",
              "    </tr>\n",
              "    <tr>\n",
              "      <th>43788</th>\n",
              "      <td>5.0</td>\n",
              "      <td>milk</td>\n",
              "      <td>1999</td>\n",
              "    </tr>\n",
              "    <tr>\n",
              "      <th>43789</th>\n",
              "      <td>6.0</td>\n",
              "      <td>milk</td>\n",
              "      <td>1999</td>\n",
              "    </tr>\n",
              "    <tr>\n",
              "      <th>43790</th>\n",
              "      <td>2.0</td>\n",
              "      <td>milk</td>\n",
              "      <td>1999</td>\n",
              "    </tr>\n",
              "  </tbody>\n",
              "</table>\n",
              "<p>306537 rows × 3 columns</p>\n",
              "</div>"
            ],
            "text/plain": [
              "       value   name  year\n",
              "0        2.0  juice  2019\n",
              "1        2.0  juice  2019\n",
              "2        1.0  juice  2019\n",
              "3        2.0  juice  2019\n",
              "4        4.0  juice  2019\n",
              "...      ...    ...   ...\n",
              "43786    3.0   milk  1999\n",
              "43787    1.0   milk  1999\n",
              "43788    5.0   milk  1999\n",
              "43789    6.0   milk  1999\n",
              "43790    2.0   milk  1999\n",
              "\n",
              "[306537 rows x 3 columns]"
            ]
          },
          "execution_count": 249,
          "metadata": {},
          "output_type": "execute_result"
        }
      ],
      "source": [
        "# Prepare the data\n",
        "df_new = df[['juice', 'fruit', 'green_salad', 'potato', 'carrots', 'other_vegetables', 'milk', 'year']]\n",
        "df_new['juice1'] = 'juice'\n",
        "df_new['fruit1'] = 'fruit'\n",
        "df_new['green_salad1'] = 'green_salad'\n",
        "df_new['potato1'] = 'potato'\n",
        "df_new['carrots1'] = 'carrots'\n",
        "df_new['other_vegetables1'] = 'other_vegetables'\n",
        "df_new['milk1'] = 'milk'\n",
        "\n",
        "juice = df_new[['juice', 'juice1', 'year']]\n",
        "juice.rename(columns = {'juice':'value',\n",
        "                         'juice1':'name'}, inplace = True)\n",
        "\n",
        "fruit = df_new[['fruit', 'fruit1', 'year']]\n",
        "fruit.rename(columns = {'fruit':'value',\n",
        "                         'fruit1':'name'}, inplace = True)\n",
        "\n",
        "green_salad = df_new[['green_salad', 'green_salad1', 'year']]\n",
        "green_salad.rename(columns = {'green_salad':'value',\n",
        "                         'green_salad1':'name'}, inplace = True)\n",
        "\n",
        "potato = df_new[['potato', 'potato1', 'year']]\n",
        "potato.rename(columns = {'potato':'value',\n",
        "                         'potato1':'name'}, inplace = True)\n",
        "\n",
        "carrots = df_new[['carrots', 'carrots1', 'year']]\n",
        "carrots.rename(columns = {'carrots':'value',\n",
        "                         'carrots1':'name'}, inplace = True)\n",
        "\n",
        "other_vegetables = df_new[['other_vegetables', 'other_vegetables1', 'year']]\n",
        "other_vegetables.rename(columns = {'other_vegetables':'value',\n",
        "                         'other_vegetables1':'name'}, inplace = True)\n",
        "\n",
        "milk = df_new[['milk', 'milk1', 'year']]\n",
        "milk.rename(columns = {'milk':'value',\n",
        "                         'milk1':'name'}, inplace = True)\n",
        "\n",
        "concat = pd.concat([juice, fruit, green_salad, potato, carrots, other_vegetables, milk])\n",
        "concat"
      ]
    },
    {
      "cell_type": "code",
      "execution_count": null,
      "id": "b30efc6f",
      "metadata": {
        "id": "b30efc6f",
        "outputId": "71f59947-6524-439c-b366-43e29cc7c6ef"
      },
      "outputs": [
        {
          "data": {
            "text/html": [
              "<div>\n",
              "<style scoped>\n",
              "    .dataframe tbody tr th:only-of-type {\n",
              "        vertical-align: middle;\n",
              "    }\n",
              "\n",
              "    .dataframe tbody tr th {\n",
              "        vertical-align: top;\n",
              "    }\n",
              "\n",
              "    .dataframe thead th {\n",
              "        text-align: right;\n",
              "    }\n",
              "</style>\n",
              "<table border=\"1\" class=\"dataframe\">\n",
              "  <thead>\n",
              "    <tr style=\"text-align: right;\">\n",
              "      <th>year</th>\n",
              "      <th>name</th>\n",
              "      <th>1999</th>\n",
              "      <th>2017</th>\n",
              "      <th>2019</th>\n",
              "    </tr>\n",
              "  </thead>\n",
              "  <tbody>\n",
              "    <tr>\n",
              "      <th>0</th>\n",
              "      <td>carrots</td>\n",
              "      <td>1.667991</td>\n",
              "      <td>1.700711</td>\n",
              "      <td>1.752650</td>\n",
              "    </tr>\n",
              "    <tr>\n",
              "      <th>1</th>\n",
              "      <td>fruit</td>\n",
              "      <td>2.889374</td>\n",
              "      <td>3.138435</td>\n",
              "      <td>3.103458</td>\n",
              "    </tr>\n",
              "    <tr>\n",
              "      <th>2</th>\n",
              "      <td>green_salad</td>\n",
              "      <td>2.005798</td>\n",
              "      <td>1.972841</td>\n",
              "      <td>1.973605</td>\n",
              "    </tr>\n",
              "    <tr>\n",
              "      <th>3</th>\n",
              "      <td>juice</td>\n",
              "      <td>3.159815</td>\n",
              "      <td>2.562817</td>\n",
              "      <td>2.342765</td>\n",
              "    </tr>\n",
              "    <tr>\n",
              "      <th>4</th>\n",
              "      <td>milk</td>\n",
              "      <td>3.277347</td>\n",
              "      <td>2.795530</td>\n",
              "      <td>2.747240</td>\n",
              "    </tr>\n",
              "    <tr>\n",
              "      <th>5</th>\n",
              "      <td>other_vegetables</td>\n",
              "      <td>2.628054</td>\n",
              "      <td>2.657027</td>\n",
              "      <td>2.703078</td>\n",
              "    </tr>\n",
              "    <tr>\n",
              "      <th>6</th>\n",
              "      <td>potato</td>\n",
              "      <td>2.045410</td>\n",
              "      <td>1.970200</td>\n",
              "      <td>1.950866</td>\n",
              "    </tr>\n",
              "  </tbody>\n",
              "</table>\n",
              "</div>"
            ],
            "text/plain": [
              "year              name      1999      2017      2019\n",
              "0              carrots  1.667991  1.700711  1.752650\n",
              "1                fruit  2.889374  3.138435  3.103458\n",
              "2          green_salad  2.005798  1.972841  1.973605\n",
              "3                juice  3.159815  2.562817  2.342765\n",
              "4                 milk  3.277347  2.795530  2.747240\n",
              "5     other_vegetables  2.628054  2.657027  2.703078\n",
              "6               potato  2.045410  1.970200  1.950866"
            ]
          },
          "execution_count": 251,
          "metadata": {},
          "output_type": "execute_result"
        }
      ],
      "source": [
        "# Brief summary to double check the logic\n",
        "concat_1999 = concat[concat['year'] == 1999]\n",
        "concat_2017 = concat[concat['year'] == 2017]\n",
        "concat_2019 = concat[concat['year'] == 2019]\n",
        "data=concat.pivot_table(index=['name'], columns='year', values='value').reset_index()\n",
        "data"
      ]
    },
    {
      "cell_type": "code",
      "execution_count": null,
      "id": "3fc2eb8c",
      "metadata": {
        "scrolled": false,
        "id": "3fc2eb8c",
        "outputId": "a4de0b03-d7a2-4780-95f7-49d53a6d7b19"
      },
      "outputs": [
        {
          "data": {
            "text/plain": [
              "<Figure size 640x480 with 0 Axes>"
            ]
          },
          "metadata": {},
          "output_type": "display_data"
        },
        {
          "data": {
            "image/png": "[encoded data removed]",
            "text/plain": [
              "<Figure size 800x400 with 8 Axes>"
            ]
          },
          "metadata": {},
          "output_type": "display_data"
        }
      ],
      "source": [
        "# Draw the plot\n",
        "concat_2019 = concat[concat['year'] == 2019]\n",
        "\n",
        "a = sns.color_palette(\"Set2\")\n",
        "labels_y = ['Juice', 'Fruit', 'Green salad', 'Potato', 'Carrots', 'Other vegetables', 'Milk']\n",
        "\n",
        "plt.figure()\n",
        "\n",
        "ax, fig = joyplot(\n",
        "    data=concat_2019[['value', 'name']],\n",
        "    by='name',\n",
        "    column=['value'],\n",
        "    color=a,\n",
        "    legend=False,\n",
        "    alpha=0.9,\n",
        "    figsize=(8, 4),\n",
        "    labels=labels_y,\n",
        "    grid=\"y\", linewidth=1\n",
        "    )\n",
        "\n",
        "x = [1, 2, 3, 4, 5, 6, 7]\n",
        "labels = ['0 times/week', '1-3 times/week', '4-6 times/week', '1 time/day', '2 times/day', '3 times/day', '>4 times/day']\n",
        "plt.xticks(x, labels, rotation = 40, size = 10)\n",
        "\n",
        "# Add a vertical line for a specific consumption level\n",
        "plt.axvline(x = 4, linestyle = 'dashed' , color = 'black', linewidth=1)\n",
        "ax.text(0.60, 0.85, 'The person consumes the product', color='black', style='italic', size = 10)\n",
        "ax.text(0.60, 0.80, 'at least once a day', color='black', style='italic', size = 10)\n",
        "\n",
        "#plt.xlabel(\"Average weekly consumption of selected products\", fontsize=10, weight=\"bold\")\n",
        "#plt.title('Average weekly consumption of natural products by American high school students (2019)', fontsize=10, weight=\"bold\")\n",
        "plt.show()"
      ]
    },
    {
      "cell_type": "code",
      "execution_count": null,
      "id": "700306b8",
      "metadata": {
        "id": "700306b8",
        "outputId": "956e2ab3-ab0e-4731-b686-33cf0ef8669a"
      },
      "outputs": [
        {
          "data": {
            "image/png": "[encoded data removed]",
            "text/plain": [
              "<Figure size 700x500 with 1 Axes>"
            ]
          },
          "metadata": {},
          "output_type": "display_data"
        }
      ],
      "source": [
        "# Time series\n",
        "\n",
        "# Time series for Nuitrition\n",
        "\n",
        "# Create a dataframe\n",
        "dfNuitrition = pd.DataFrame({\n",
        "        'y': ['Juice','Fruit','Green salad','Breakfast'],\n",
        "        'x': [-8.5863,-1.1145,0.0387,-3.4726]\n",
        "})\n",
        "\n",
        "# Set the figure size\n",
        "plt.figure(figsize=(7, 5))\n",
        "\n",
        "# Reorder this data frame\n",
        "dfNuitrition = dfNuitrition.sort_values(['y'], ascending=False).reset_index(drop=True)\n",
        "\n",
        "# Color\n",
        "a = dfNuitrition['y']\n",
        "colors = ['#ffed6f' if (s == 'Breakfast') else 'grey' for s in a]\n",
        "\n",
        "a = sns.color_palette(\"Set2\")\n",
        "\n",
        "# Make a barplot\n",
        "p=sns.barplot(x=\"x\", y=\"y\", data=dfNuitrition, estimator=sum, ci=None, palette=colors)\n",
        "\n",
        "sns.set_context(\"paper\", font_scale=1.9)\n",
        "p.set(xlabel=None, ylabel=None)\n",
        "plt.axvline(x = 0 , color = 'black', linewidth=1)\n",
        "sns.set_style(style='white')\n",
        "sns.despine()\n",
        "p.xaxis.set_major_formatter(mtick.PercentFormatter());"
      ]
    },
    {
      "cell_type": "markdown",
      "id": "50b20473",
      "metadata": {
        "id": "50b20473"
      },
      "source": [
        "**Life-threatening activities**"
      ]
    },
    {
      "cell_type": "code",
      "execution_count": null,
      "id": "5027398c",
      "metadata": {
        "id": "5027398c",
        "outputId": "43b75f7e-2be1-432f-d1d2-24f835039eca"
      },
      "outputs": [
        {
          "name": "stderr",
          "output_type": "stream",
          "text": [
            "C:\\Users\\Kate Shapovalenko\\AppData\\Local\\Temp\\ipykernel_30284\\436696687.py:2: DtypeWarning:\n",
            "\n",
            "Columns (45) have mixed types. Specify dtype option on import or set low_memory=False.\n",
            "\n"
          ]
        },
        {
          "data": {
            "image/png": "[encoded data removed]",
            "text/plain": [
              "<Figure size 1000x900 with 2 Axes>"
            ]
          },
          "metadata": {},
          "output_type": "display_data"
        }
      ],
      "source": [
        "# Viz 3\n",
        "df = pd.read_csv(\"data.csv\")\n",
        "\n",
        "a = sns.color_palette(\"RdPu\")\n",
        "\n",
        "DFLifeThreatening=df[['seatbelt', 'drunk_driving_self', 'texting_driving', 'cigarettes_day', 'electronic_vapor_day',\n",
        "                      'alcohol', 'marijuana_30', 'unprotected_sex', 'fight_school']].copy()\n",
        "\n",
        "DFLifeThreatening.rename(columns={'alcohol':'Alcohol consumption','marijuana_30':'Marijuana use','cigarettes_day':'Cigarettes use','electronic_vapor_day':'Electronic vapor use',\n",
        "                      'cocaine':'Cocaine use','drunk_driving_self':'Drunk driving','texting_driving':'Texting driving','seatbelt':'Seatbelt use',\n",
        "                      'fight_school':'Fight in school', 'unprotected_sex':'Unprotected sex'},inplace = True)\n",
        "\n",
        "sns.set_theme(style=\"white\")\n",
        "\n",
        "# Compute the correlation matrix\n",
        "corr = DFLifeThreatening.corr()\n",
        "\n",
        "# Generate a mask for the upper triangle\n",
        "mask = np.triu(np.ones_like(corr, dtype=bool))\n",
        "\n",
        "# Set up the matplotlib figure\n",
        "f, ax = plt.subplots(figsize=(10, 9))\n",
        "\n",
        "# Draw the heatmap with the mask and correct aspect ratio\n",
        "sns.heatmap(corr, mask=mask, cmap=a, vmax=.3, center=0,\n",
        "            square=True, linewidths=.5, cbar_kws={\"shrink\": .5})\n",
        "\n",
        "# Rotation = 90\n",
        "plt.xticks(rotation = 90)\n",
        "\n",
        "# Change the font size to 1.5\n",
        "plt.show()\n"
      ]
    },
    {
      "cell_type": "code",
      "execution_count": null,
      "id": "65c8303a",
      "metadata": {
        "id": "65c8303a",
        "outputId": "c302503d-bbf8-433f-838c-3d5eaf786cd9"
      },
      "outputs": [
        {
          "data": {
            "image/png": "[encoded data removed]",
            "text/plain": [
              "<Figure size 800x500 with 1 Axes>"
            ]
          },
          "metadata": {},
          "output_type": "display_data"
        }
      ],
      "source": [
        "# Time series\n",
        "\n",
        "# Time series for Life Threatening\n",
        "\n",
        "# Create a dataframe\n",
        "dfLifethreatening = pd.DataFrame({\n",
        "        'y': ['Alcohol consumption', 'Cigarettes use','Electronic vapor use','Feeling unsafe in school'],\n",
        "        'x': [-1.1323,-8.6057,54.3466,6.3274]\n",
        "})\n",
        "\n",
        "# Set the figure size\n",
        "plt.figure(figsize=(8, 5))\n",
        "\n",
        "# Reorder this data frame\n",
        "dfLifethreatening = dfLifethreatening.sort_values(['y'], ascending=False).reset_index(drop=True)\n",
        "\n",
        "# Color\n",
        "a = dfLifethreatening['y']\n",
        "colors = ['#fccde5' if (s == 'Electronic vapor use') else 'grey' for s in a]\n",
        "\n",
        "a = sns.color_palette(\"Set2\")\n",
        "\n",
        "# Make a barplot\n",
        "p=sns.barplot(x=\"x\", y=\"y\", data=dfLifethreatening, estimator=sum, ci=None, palette=colors)\n",
        "\n",
        "sns.set_context(\"paper\", font_scale=1.9)\n",
        "p.set(xlabel=None, ylabel=None)\n",
        "plt.axvline(x = 0 , color = 'black', linewidth=1)\n",
        "sns.set_style(style='white')\n",
        "sns.despine()\n",
        "p.xaxis.set_major_formatter(mtick.PercentFormatter());"
      ]
    },
    {
      "cell_type": "markdown",
      "id": "8ae1360d",
      "metadata": {
        "id": "8ae1360d"
      },
      "source": [
        "## 3. Recommended actions"
      ]
    },
    {
      "cell_type": "markdown",
      "id": "e1ede70b",
      "metadata": {
        "id": "e1ede70b"
      },
      "source": [
        "1. Prioritize sport at school\n",
        "2. Offer a balanced breakfast at school\n",
        "3. Ban vapor products (i.e., make them illegal to sell for people under 18)"
      ]
    },
    {
      "cell_type": "markdown",
      "id": "5e49975f",
      "metadata": {
        "id": "5e49975f"
      },
      "source": [
        "## 4. References"
      ]
    },
    {
      "cell_type": "markdown",
      "id": "8c86cdf2",
      "metadata": {
        "id": "8c86cdf2"
      },
      "source": [
        "**Resources that have been used:**\n",
        "- Lecture 1-9 Slides\n",
        "- Lecture 3-5 Jupyter Notebook\n",
        "- Lab 1-3 solution\n",
        "- Split-apply-combine cheetsheet\n",
        "- https://www.cdc.gov/healthyyouth/data/yrbs/data.htm\n",
        "- https://datatofish.com/how-to-connect-python-to-ms-access-database-using-pyodbc/\n",
        "- https://pythoninoffice.com/python-ms-access-database-pyodbc/\n",
        "- https://medium.com/nightingale/how-to-use-storytelling-conventions-to-create-better-visualizations-45177ae517ba\n",
        "- https://seaborn.pydata.org/examples/heat_scatter.html\n",
        "- https://seaborn.pydata.org/examples/many_pairwise_correlations.html\n",
        "- https://seaborn.pydata.org/examples/scatter_bubbles.html\n",
        "- https://seaborn.pydata.org/examples/scatterplot_categorical.html\n",
        "- https://seaborn.pydata.org/examples/scatterplot_sizes.html\n",
        "- https://seaborn.pydata.org/examples/spreadsheet_heatmap.html\n",
        "- https://plotly.com/python/\n",
        "- https://plotly.com/python/parallel-categories-diagram/\n",
        "- https://www.javatpoint.com/data-visualization-tools\n",
        "- https://www.data-to-viz.com/graph/stackedarea.html\n",
        "- https://datavizcatalogue.com/\n",
        "- https://datavizproject.com/\n",
        "- https://www.data-to-viz.com/\n",
        "- https://towardsdatascience.com/ridgeline-plots-the-perfect-way-to-visualize-data-distributions-with-python-de99a5493052\n",
        "- https://stackoverflow.com/questions/59466109/how-to-get-x-axis-labels-in-multiple-line-in-matplotlib\n",
        "- https://colorbrewer2.org/#type=sequential&scheme=YlGnBu&n=9\n",
        "- https://lifewithdata.com/2022/08/29/how-to-create-a-sankey-diagram-in-plotly-python/\n",
        "- https://github.com/vinsburg/alluvial_diagram\n",
        "- https://github.com/anazalea/pySankey\n",
        "- Out color palette: https://loading.io/color/feature/Set3-12/"
      ]
    },
    {
      "cell_type": "markdown",
      "id": "78d8d53c",
      "metadata": {
        "id": "78d8d53c"
      },
      "source": [
        "Thank you for reading our material. Please feel free to contact our team for additional questions."
      ]
    },
    {
      "cell_type": "code",
      "execution_count": null,
      "id": "7b0dc7f8",
      "metadata": {
        "id": "7b0dc7f8"
      },
      "outputs": [],
      "source": []
    }
  ],
  "metadata": {
    "kernelspec": {
      "display_name": "Python 3 (ipykernel)",
      "language": "python",
      "name": "python3"
    },
    "language_info": {
      "codemirror_mode": {
        "name": "ipython",
        "version": 3
      },
      "file_extension": ".py",
      "mimetype": "text/x-python",
      "name": "python",
      "nbconvert_exporter": "python",
      "pygments_lexer": "ipython3",
      "version": "3.9.12"
    },
    "colab": {
      "provenance": []
    }
  },
  "nbformat": 4,
  "nbformat_minor": 5
}